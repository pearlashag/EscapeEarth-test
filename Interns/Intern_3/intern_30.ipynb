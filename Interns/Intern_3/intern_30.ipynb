{
  "nbformat": 4,
  "nbformat_minor": 0,
  "metadata": {
    "colab": {
      "name": "intern 30",
      "provenance": [],
      "authorship_tag": "ABX9TyPzlZVTiIQoMllVPM0PGt5Q"
    },
    "kernelspec": {
      "name": "python3",
      "display_name": "Python 3"
    }
  },
  "cells": [
    {
      "cell_type": "code",
      "metadata": {
        "id": "5wXrq1yx9pTO",
        "outputId": "2e4092eb-7a02-4ca4-9893-6c244f523ab3",
        "colab": {
          "base_uri": "https://localhost:8080/",
          "height": 34
        }
      },
      "source": [
        "print('heres fun for intern 3 ')"
      ],
      "execution_count": 2,
      "outputs": [
        {
          "output_type": "stream",
          "text": [
            "heres fun for intern 3 \n"
          ],
          "name": "stdout"
        }
      ]
    }
  ]
}